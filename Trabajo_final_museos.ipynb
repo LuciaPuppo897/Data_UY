{
  "nbformat": 4,
  "nbformat_minor": 0,
  "metadata": {
    "colab": {
      "provenance": [],
      "authorship_tag": "ABX9TyPqn4HdyxG8cOmpT/keG6t1",
      "include_colab_link": true
    },
    "kernelspec": {
      "name": "python3",
      "display_name": "Python 3"
    },
    "language_info": {
      "name": "python"
    }
  },
  "cells": [
    {
      "cell_type": "markdown",
      "metadata": {
        "id": "view-in-github",
        "colab_type": "text"
      },
      "source": [
        "<a href=\"https://colab.research.google.com/github/LuciaPuppo897/Data_UY/blob/main/Trabajo_final_museos.ipynb\" target=\"_parent\"><img src=\"https://colab.research.google.com/assets/colab-badge.svg\" alt=\"Open In Colab\"/></a>"
      ]
    },
    {
      "cell_type": "markdown",
      "source": [
        "**Análisis comparativo de exposiciones realizadas en los museos Azulejo, Subte y MuHar de Montevideo durante 2023 y 2024**\n",
        "\n",
        "\n",
        "---\n",
        "\n",
        "\n",
        "**Objetivo del proyecto**\n",
        "\n",
        "El presente trabajo tiene como objetivo analizar la distribución y características de las exposiciones culturales desarrolladas en tres museos de Montevideo —Museo del Azulejo, Centro de Exposiciones Subte y Museo de Historia del Arte (MuHar)— durante los años 2023 y 2024.\n",
        "\n",
        "A partir de este análisis, se pretende identificar patrones en la programación y diversidad cultural en la oferta museística de Montevideo, y generar una predicción sobre la posible oferta para el año 2025.\n",
        "\n",
        "**Origen de los datos**\n",
        "\n",
        "Los datos utilizados provienen del portal de Datos Abiertos de la Intendencia de Montevideo, específicamente del conjunto:\n",
        "https://ckan.montevideo.gub.uy/dataset/museos\n",
        "\n",
        "Los datasets utilizados corresponden a los museos mencionados para los años 2023 y 2024, y están disponibles en formato CSV. Consideramos que debido a la naturaleza de los dataset y el objetivo que nos propusimos, era necesario tener muestreos de 2 años como referencia, a su vez considerando que los dataset no superan los 50 datos en promedio,y que varias variables no se encuentran reflejadas en su totalidad en todos los museos, decidimos considerar para la escala de este trabajo las siguientes variables:\n",
        "Se busca estudiar las exposiciones según variables como:\n",
        "\n",
        "* Género de artistas\n",
        "* Nacionalidad (local o internacional)\n",
        "* Rango etario\n",
        "* Público destinatario\n",
        "* Tipo de actividad (exposición, conversatorio, etc.)\n"
      ],
      "metadata": {
        "id": "7B-SUIFxkUic"
      }
    },
    {
      "cell_type": "markdown",
      "source": [
        "A continuación se subiran los dataset a ser utilizados:\n",
        "* subte_2023.csv\n",
        "* subte_2024.csv\n",
        "* muhar_2023.csv\n",
        "* muhar_2024.csv\n",
        "* museo-del-azulejo_2023.csv\n",
        "* museo-del-azulejo_2024.csv\n",
        "\n",
        "Para su posterior limpieza, depuración y tratamiento se utilizara panda\n"
      ],
      "metadata": {
        "id": "jTKvrFYVmBei"
      }
    },
    {
      "cell_type": "code",
      "source": [
        "import os\n",
        "from google.colab import files\n",
        "\n",
        "# Eliminar los archivos existentes\n",
        "def eliminar_archivos_anteriores():\n",
        "    archivos = os.listdir('/content/')\n",
        "    archivos_a_conservar = [\n",
        "        'museo-del-azulejo_2023.csv',\n",
        "        'subte_2023.csv',\n",
        "        'museo-del-azulejo_2024.csv',\n",
        "        'subte_2024.csv',\n",
        "        'muhar_2023.csv',\n",
        "        'muhar_2024.csv'\n",
        "    ]\n",
        "\n",
        "    for archivo in archivos:\n",
        "        archivo_path = os.path.join('/content/', archivo)\n",
        "        # Verificar que es un archivo, no un directorio, y que no esté en la lista de conservación\n",
        "        if archivo not in archivos_a_conservar and os.path.isfile(archivo_path):\n",
        "            os.remove(archivo_path)\n",
        "            print(f'Archivo {archivo} eliminado.')\n",
        "\n",
        "# Llamar la función para eliminar los archivos anteriores\n",
        "eliminar_archivos_anteriores()\n",
        "\n",
        "# Subir los nuevos archivos CSV\n",
        "uploaded = files.upload()\n",
        "\n",
        "# Ver los archivos subidos\n",
        "uploaded.keys()\n",
        "\n"
      ],
      "metadata": {
        "colab": {
          "base_uri": "https://localhost:8080/",
          "height": 367
        },
        "id": "LvY9c9mjm4nR",
        "outputId": "af0e1b83-6873-43b4-885a-854ad79ea081"
      },
      "execution_count": 19,
      "outputs": [
        {
          "output_type": "stream",
          "name": "stdout",
          "text": [
            "Archivo muhar_2024 (1).csv eliminado.\n",
            "Archivo muhar_2023 (1).csv eliminado.\n",
            "Archivo subte_2023 (1).csv eliminado.\n",
            "Archivo subte_2024 (1).csv eliminado.\n",
            "Archivo museo-del-azulejo_2023 (1).csv eliminado.\n",
            "Archivo museo-del-azulejo_2024 (1).csv eliminado.\n"
          ]
        },
        {
          "output_type": "display_data",
          "data": {
            "text/plain": [
              "<IPython.core.display.HTML object>"
            ],
            "text/html": [
              "\n",
              "     <input type=\"file\" id=\"files-6a4a265d-e094-428a-b4b2-661cefd604f4\" name=\"files[]\" multiple disabled\n",
              "        style=\"border:none\" />\n",
              "     <output id=\"result-6a4a265d-e094-428a-b4b2-661cefd604f4\">\n",
              "      Upload widget is only available when the cell has been executed in the\n",
              "      current browser session. Please rerun this cell to enable.\n",
              "      </output>\n",
              "      <script>// Copyright 2017 Google LLC\n",
              "//\n",
              "// Licensed under the Apache License, Version 2.0 (the \"License\");\n",
              "// you may not use this file except in compliance with the License.\n",
              "// You may obtain a copy of the License at\n",
              "//\n",
              "//      http://www.apache.org/licenses/LICENSE-2.0\n",
              "//\n",
              "// Unless required by applicable law or agreed to in writing, software\n",
              "// distributed under the License is distributed on an \"AS IS\" BASIS,\n",
              "// WITHOUT WARRANTIES OR CONDITIONS OF ANY KIND, either express or implied.\n",
              "// See the License for the specific language governing permissions and\n",
              "// limitations under the License.\n",
              "\n",
              "/**\n",
              " * @fileoverview Helpers for google.colab Python module.\n",
              " */\n",
              "(function(scope) {\n",
              "function span(text, styleAttributes = {}) {\n",
              "  const element = document.createElement('span');\n",
              "  element.textContent = text;\n",
              "  for (const key of Object.keys(styleAttributes)) {\n",
              "    element.style[key] = styleAttributes[key];\n",
              "  }\n",
              "  return element;\n",
              "}\n",
              "\n",
              "// Max number of bytes which will be uploaded at a time.\n",
              "const MAX_PAYLOAD_SIZE = 100 * 1024;\n",
              "\n",
              "function _uploadFiles(inputId, outputId) {\n",
              "  const steps = uploadFilesStep(inputId, outputId);\n",
              "  const outputElement = document.getElementById(outputId);\n",
              "  // Cache steps on the outputElement to make it available for the next call\n",
              "  // to uploadFilesContinue from Python.\n",
              "  outputElement.steps = steps;\n",
              "\n",
              "  return _uploadFilesContinue(outputId);\n",
              "}\n",
              "\n",
              "// This is roughly an async generator (not supported in the browser yet),\n",
              "// where there are multiple asynchronous steps and the Python side is going\n",
              "// to poll for completion of each step.\n",
              "// This uses a Promise to block the python side on completion of each step,\n",
              "// then passes the result of the previous step as the input to the next step.\n",
              "function _uploadFilesContinue(outputId) {\n",
              "  const outputElement = document.getElementById(outputId);\n",
              "  const steps = outputElement.steps;\n",
              "\n",
              "  const next = steps.next(outputElement.lastPromiseValue);\n",
              "  return Promise.resolve(next.value.promise).then((value) => {\n",
              "    // Cache the last promise value to make it available to the next\n",
              "    // step of the generator.\n",
              "    outputElement.lastPromiseValue = value;\n",
              "    return next.value.response;\n",
              "  });\n",
              "}\n",
              "\n",
              "/**\n",
              " * Generator function which is called between each async step of the upload\n",
              " * process.\n",
              " * @param {string} inputId Element ID of the input file picker element.\n",
              " * @param {string} outputId Element ID of the output display.\n",
              " * @return {!Iterable<!Object>} Iterable of next steps.\n",
              " */\n",
              "function* uploadFilesStep(inputId, outputId) {\n",
              "  const inputElement = document.getElementById(inputId);\n",
              "  inputElement.disabled = false;\n",
              "\n",
              "  const outputElement = document.getElementById(outputId);\n",
              "  outputElement.innerHTML = '';\n",
              "\n",
              "  const pickedPromise = new Promise((resolve) => {\n",
              "    inputElement.addEventListener('change', (e) => {\n",
              "      resolve(e.target.files);\n",
              "    });\n",
              "  });\n",
              "\n",
              "  const cancel = document.createElement('button');\n",
              "  inputElement.parentElement.appendChild(cancel);\n",
              "  cancel.textContent = 'Cancel upload';\n",
              "  const cancelPromise = new Promise((resolve) => {\n",
              "    cancel.onclick = () => {\n",
              "      resolve(null);\n",
              "    };\n",
              "  });\n",
              "\n",
              "  // Wait for the user to pick the files.\n",
              "  const files = yield {\n",
              "    promise: Promise.race([pickedPromise, cancelPromise]),\n",
              "    response: {\n",
              "      action: 'starting',\n",
              "    }\n",
              "  };\n",
              "\n",
              "  cancel.remove();\n",
              "\n",
              "  // Disable the input element since further picks are not allowed.\n",
              "  inputElement.disabled = true;\n",
              "\n",
              "  if (!files) {\n",
              "    return {\n",
              "      response: {\n",
              "        action: 'complete',\n",
              "      }\n",
              "    };\n",
              "  }\n",
              "\n",
              "  for (const file of files) {\n",
              "    const li = document.createElement('li');\n",
              "    li.append(span(file.name, {fontWeight: 'bold'}));\n",
              "    li.append(span(\n",
              "        `(${file.type || 'n/a'}) - ${file.size} bytes, ` +\n",
              "        `last modified: ${\n",
              "            file.lastModifiedDate ? file.lastModifiedDate.toLocaleDateString() :\n",
              "                                    'n/a'} - `));\n",
              "    const percent = span('0% done');\n",
              "    li.appendChild(percent);\n",
              "\n",
              "    outputElement.appendChild(li);\n",
              "\n",
              "    const fileDataPromise = new Promise((resolve) => {\n",
              "      const reader = new FileReader();\n",
              "      reader.onload = (e) => {\n",
              "        resolve(e.target.result);\n",
              "      };\n",
              "      reader.readAsArrayBuffer(file);\n",
              "    });\n",
              "    // Wait for the data to be ready.\n",
              "    let fileData = yield {\n",
              "      promise: fileDataPromise,\n",
              "      response: {\n",
              "        action: 'continue',\n",
              "      }\n",
              "    };\n",
              "\n",
              "    // Use a chunked sending to avoid message size limits. See b/62115660.\n",
              "    let position = 0;\n",
              "    do {\n",
              "      const length = Math.min(fileData.byteLength - position, MAX_PAYLOAD_SIZE);\n",
              "      const chunk = new Uint8Array(fileData, position, length);\n",
              "      position += length;\n",
              "\n",
              "      const base64 = btoa(String.fromCharCode.apply(null, chunk));\n",
              "      yield {\n",
              "        response: {\n",
              "          action: 'append',\n",
              "          file: file.name,\n",
              "          data: base64,\n",
              "        },\n",
              "      };\n",
              "\n",
              "      let percentDone = fileData.byteLength === 0 ?\n",
              "          100 :\n",
              "          Math.round((position / fileData.byteLength) * 100);\n",
              "      percent.textContent = `${percentDone}% done`;\n",
              "\n",
              "    } while (position < fileData.byteLength);\n",
              "  }\n",
              "\n",
              "  // All done.\n",
              "  yield {\n",
              "    response: {\n",
              "      action: 'complete',\n",
              "    }\n",
              "  };\n",
              "}\n",
              "\n",
              "scope.google = scope.google || {};\n",
              "scope.google.colab = scope.google.colab || {};\n",
              "scope.google.colab._files = {\n",
              "  _uploadFiles,\n",
              "  _uploadFilesContinue,\n",
              "};\n",
              "})(self);\n",
              "</script> "
            ]
          },
          "metadata": {}
        },
        {
          "output_type": "stream",
          "name": "stdout",
          "text": [
            "Saving muhar_2023.csv to muhar_2023 (1).csv\n",
            "Saving subte_2023.csv to subte_2023 (1).csv\n",
            "Saving museo-del-azulejo_2024.csv to museo-del-azulejo_2024 (1).csv\n",
            "Saving museo-del-azulejo_2023.csv to museo-del-azulejo_2023 (1).csv\n",
            "Saving muhar_2024.csv to muhar_2024 (1).csv\n",
            "Saving subte_2024.csv to subte_2024 (1).csv\n"
          ]
        },
        {
          "output_type": "execute_result",
          "data": {
            "text/plain": [
              "dict_keys(['muhar_2023 (1).csv', 'subte_2023 (1).csv', 'museo-del-azulejo_2024 (1).csv', 'museo-del-azulejo_2023 (1).csv', 'muhar_2024 (1).csv', 'subte_2024 (1).csv'])"
            ]
          },
          "metadata": {},
          "execution_count": 19
        }
      ]
    },
    {
      "cell_type": "markdown",
      "source": [
        "Se cambió el sufijo (1) en los archivos para hacerlos más comprensibles y facilitar su posterior referencia en el análisis."
      ],
      "metadata": {
        "id": "9YcIl_olpy07"
      }
    },
    {
      "cell_type": "code",
      "source": [
        "import os\n",
        "\n",
        "# Lista de archivos a conservar\n",
        "archivos_a_conservar = [\n",
        "    'museo-del-azulejo_2023.csv',\n",
        "    'subte_2023.csv',\n",
        "    'museo-del-azulejo_2024.csv',\n",
        "    'subte_2024.csv',\n",
        "    'muhar_2023.csv',\n",
        "    'muhar_2024.csv'\n",
        "]\n",
        "\n",
        "# Listar los archivos en el directorio actual\n",
        "archivos = os.listdir('/content/')\n",
        "\n",
        "# Eliminar archivos que no están en la lista de conservación\n",
        "for archivo in archivos:\n",
        "    archivo_path = os.path.join('/content/', archivo)\n",
        "    # Verificar que es un archivo y no un directorio\n",
        "    if os.path.isfile(archivo_path) and archivo not in archivos_a_conservar:\n",
        "        os.remove(archivo_path)\n",
        "        print(f'Archivo {archivo} eliminado.')\n",
        "\n",
        "# Verificar que solo queden los archivos correctos\n",
        "os.listdir('/content/')\n",
        "\n"
      ],
      "metadata": {
        "colab": {
          "base_uri": "https://localhost:8080/"
        },
        "id": "_FE4iouGqEYG",
        "outputId": "30d42f50-4cda-461c-a004-da9d1fb960a7"
      },
      "execution_count": 22,
      "outputs": [
        {
          "output_type": "stream",
          "name": "stdout",
          "text": [
            "Archivo muhar_2024 .csv eliminado.\n",
            "Archivo subte_2023 .csv eliminado.\n",
            "Archivo subte_2024 .csv eliminado.\n",
            "Archivo museo-del-azulejo_2024 .csv eliminado.\n",
            "Archivo museo-del-azulejo_2023 .csv eliminado.\n",
            "Archivo muhar_2023 .csv eliminado.\n"
          ]
        },
        {
          "output_type": "execute_result",
          "data": {
            "text/plain": [
              "['.config',\n",
              " 'subte_2024.csv',\n",
              " 'museo-del-azulejo_2023.csv',\n",
              " 'subte_2023.csv',\n",
              " 'muhar_2024.csv',\n",
              " 'muhar_2023.csv',\n",
              " 'museo-del-azulejo_2024.csv',\n",
              " 'sample_data']"
            ]
          },
          "metadata": {},
          "execution_count": 22
        }
      ]
    },
    {
      "cell_type": "markdown",
      "source": [
        "**Limpieza de Datos:**\n",
        "\n",
        "Antes de realizar cualquier análisis, fue necesario llevar a cabo una limpieza y estandarización de los datos debido a las inconsistencias encontradas en los diferentes conjuntos de datos.\n",
        "**Limitaciones:** Es importante señalar que los conjuntos de datos utilizados presentan diferencias en sus formatos y valores. Algunos archivos incluyen tanto el mes de inicio como el mes de finalización de las actividades, mientras que otros solo contienen la fecha, o no contienen una de las dos claves (inicio o fin) Debido a esta discrepancia, se decidió no tomar en cuenta la duración de las actividades, ya que los valores inconsistentes dificultan el cálculo preciso de este parámetro.\n",
        "\n",
        "Transformaciones aplicadas:\n",
        "* Conversión de Meses: En un inicio se intento calcular la duración de las actividades, como se describio previamente esto fue descartado.\n",
        "\n",
        "* Estandarización de Categorías: Para otras columnas con valores categóricos, como público_destinatario y Actividades, también se realizó un proceso de estandarización. Esto implicó unificar las distintas formas en que se escribían los valores (por ejemplo, \"todo público\", \"adolescentes\", etc.), para asegurar que las categorías fueran consistentes a través de todos los datasets.\n",
        "\n",
        "* Manejo de Valores Nulos y Erróneos: Se eliminaron o imputaron los valores nulos en las columnas clave, como Año, Museo y Actividades, para asegurar que los análisis posteriores fueran precisos y no estuvieran sesgados por la falta de datos.Por ejemplo ciertos dataset no contaban con la columna “museo” pero gracias a que se sabe a qué museo pertenecían se agrego para poder hacer la comparación más fácil. Con la columna *Actividades* se tuvo que tomar en cuenta que en algunos dataset se le denominaba *Actividad*\n"
      ],
      "metadata": {
        "id": "nHWmi6eMkhXS"
      }
    },
    {
      "cell_type": "code",
      "source": [],
      "metadata": {
        "id": "0su3XY5ugDxz"
      },
      "execution_count": 11,
      "outputs": []
    }
  ]
}